{
  "cells": [
    {
      "cell_type": "markdown",
      "metadata": {
        "id": "view-in-github",
        "colab_type": "text"
      },
      "source": [
        "<a href=\"https://colab.research.google.com/github/ArathySatheesh/Machine_Learning/blob/main/CNN.ipynb\" target=\"_parent\"><img src=\"https://colab.research.google.com/assets/colab-badge.svg\" alt=\"Open In Colab\"/></a>"
      ]
    },
    {
      "cell_type": "code",
      "execution_count": null,
      "metadata": {
        "id": "H5HHQiQt-U3R"
      },
      "outputs": [],
      "source": [
        "from tensorflow.keras.models import Sequential"
      ]
    },
    {
      "cell_type": "code",
      "execution_count": null,
      "metadata": {
        "id": "Ma9s2mQj-l-L"
      },
      "outputs": [],
      "source": [
        "from tensorflow.keras.layers import Dense"
      ]
    },
    {
      "cell_type": "code",
      "execution_count": null,
      "metadata": {
        "id": "Q7jKLITa_RE-"
      },
      "outputs": [],
      "source": [
        "from tensorflow.keras.layers import Dropout"
      ]
    },
    {
      "cell_type": "code",
      "execution_count": null,
      "metadata": {
        "id": "29881WDE_VI4"
      },
      "outputs": [],
      "source": [
        "from tensorflow.keras.layers import Flatten"
      ]
    },
    {
      "cell_type": "code",
      "execution_count": null,
      "metadata": {
        "id": "VTccyyVG_X4O"
      },
      "outputs": [],
      "source": [
        "from tensorflow.keras.layers import Conv2D"
      ]
    },
    {
      "cell_type": "code",
      "execution_count": null,
      "metadata": {
        "id": "xoZZUM9z_boK"
      },
      "outputs": [],
      "source": [
        "from tensorflow.keras.layers import MaxPooling2D"
      ]
    },
    {
      "cell_type": "code",
      "execution_count": null,
      "metadata": {
        "id": "Sz0MB6zD_jR8"
      },
      "outputs": [],
      "source": [
        "from tensorflow.keras import backend as K"
      ]
    },
    {
      "cell_type": "code",
      "execution_count": null,
      "metadata": {
        "id": "JWu4tQjD_rds"
      },
      "outputs": [],
      "source": [
        "from tensorflow.keras.optimizers import SGD"
      ]
    },
    {
      "cell_type": "code",
      "execution_count": null,
      "metadata": {
        "id": "jpIy6am8FzWX"
      },
      "outputs": [],
      "source": [
        "from tensorflow.keras.datasets import mnist"
      ]
    },
    {
      "cell_type": "code",
      "execution_count": null,
      "metadata": {
        "id": "IRouGnhBamtn"
      },
      "outputs": [],
      "source": [
        "import cv2"
      ]
    },
    {
      "cell_type": "code",
      "execution_count": null,
      "metadata": {
        "id": "sWTI0Cq7fq02"
      },
      "outputs": [],
      "source": [
        "from google.colab.patches import cv2_imshow"
      ]
    },
    {
      "cell_type": "code",
      "execution_count": null,
      "metadata": {
        "id": "BBT_iD9YsXQb"
      },
      "outputs": [],
      "source": [
        "from tensorflow.keras.utils import to_categorical"
      ]
    },
    {
      "cell_type": "code",
      "execution_count": null,
      "metadata": {
        "id": "V1PxlyQbyTcJ"
      },
      "outputs": [],
      "source": [
        "import matplotlib.pyplot as plt"
      ]
    },
    {
      "cell_type": "code",
      "execution_count": null,
      "metadata": {
        "id": "aDkhrpLOarFn"
      },
      "outputs": [],
      "source": [
        "import numpy as np\n",
        "import matplotlib.image as mpimg"
      ]
    },
    {
      "cell_type": "code",
      "execution_count": null,
      "metadata": {
        "colab": {
          "base_uri": "https://localhost:8080/"
        },
        "id": "E2INMl3VF6IE",
        "outputId": "46826f8d-2684-4a76-df86-0ffff60eec2f"
      },
      "outputs": [
        {
          "name": "stdout",
          "output_type": "stream",
          "text": [
            "Downloading data from https://storage.googleapis.com/tensorflow/tf-keras-datasets/mnist.npz\n",
            "11493376/11490434 [==============================] - 0s 0us/step\n",
            "11501568/11490434 [==============================] - 0s 0us/step\n"
          ]
        }
      ],
      "source": [
        "(x_train,y_train),(x_test,y_test)=mnist.load_data()"
      ]
    },
    {
      "cell_type": "markdown",
      "metadata": {
        "id": "7B6JqeZSgMZz"
      },
      "source": [
        "Looking at random images in the dataset.Since, the images are small, they are scaled to view properly."
      ]
    },
    {
      "cell_type": "code",
      "execution_count": null,
      "metadata": {
        "id": "ViDYpVNfZ1Ze"
      },
      "outputs": [],
      "source": [
        "for i in range(0,6):\n",
        "  random_num=np.random.randint(0,len(x_train))\n",
        "  img=x_train[random_num]\n",
        "  img_scaled=cv2.resize(img,None,fx=5,fy=5,interpolation=cv2.INTER_NEAREST)\n",
        "  cv2_imshow(img_scaled)\n",
        "  cv2.waitKey(0)\n",
        "\n",
        "cv2.destroyAllWindows()"
      ]
    },
    {
      "cell_type": "code",
      "execution_count": null,
      "metadata": {
        "colab": {
          "background_save": true
        },
        "id": "Hp5kw4PImJJP"
      },
      "outputs": [],
      "source": [
        "img_rows=x_train[0].shape[0]"
      ]
    },
    {
      "cell_type": "code",
      "execution_count": null,
      "metadata": {
        "id": "kr8rXcosnWdR"
      },
      "outputs": [],
      "source": [
        "img_cols=x_train[0].shape[1]"
      ]
    },
    {
      "cell_type": "markdown",
      "metadata": {
        "id": "qpTcTCsSn7FA"
      },
      "source": [
        "Reshaping for Keras as 4D"
      ]
    },
    {
      "cell_type": "code",
      "execution_count": null,
      "metadata": {
        "id": "_FHGQsDAn_u9"
      },
      "outputs": [],
      "source": [
        "x_train=x_train.reshape(x_train.shape[0],img_rows,img_cols,1)\n",
        "x_test=x_test.reshape(x_test.shape[0],img_rows,img_cols,1)"
      ]
    },
    {
      "cell_type": "markdown",
      "metadata": {
        "id": "NTYlNtMoo1kq"
      },
      "source": [
        "Storing the shape of a single image"
      ]
    },
    {
      "cell_type": "code",
      "execution_count": null,
      "metadata": {
        "id": "hR_zuF0tojiX"
      },
      "outputs": [],
      "source": [
        "input_shape=(img_rows,img_cols,1)\n",
        "num_classes=10"
      ]
    },
    {
      "cell_type": "markdown",
      "metadata": {
        "id": "HpPsNlJoo8in"
      },
      "source": [
        "Keras works with float"
      ]
    },
    {
      "cell_type": "code",
      "execution_count": null,
      "metadata": {
        "id": "kcz2chkMo5ZO"
      },
      "outputs": [],
      "source": [
        "x_train=x_train.astype('float32')\n",
        "x_test=x_test.astype('float32')"
      ]
    },
    {
      "cell_type": "markdown",
      "metadata": {
        "id": "wH8H9292pQrT"
      },
      "source": [
        "Normalise from (0 to 255) to (0 to 1)"
      ]
    },
    {
      "cell_type": "code",
      "execution_count": null,
      "metadata": {
        "id": "iLewrgQMpZfd"
      },
      "outputs": [],
      "source": [
        "x_train/=255.0\n",
        "x_test/=255.0"
      ]
    },
    {
      "cell_type": "code",
      "execution_count": null,
      "metadata": {
        "colab": {
          "base_uri": "https://localhost:8080/"
        },
        "id": "hvuMdUZ0ptlZ",
        "outputId": "9012e639-bd4e-4186-d8de-d398655c8ffc"
      },
      "outputs": [
        {
          "name": "stdout",
          "output_type": "stream",
          "text": [
            "X_train shape: (60000, 28, 28, 1)\n",
            "60000 Train samples\n",
            "10000 Test samples\n"
          ]
        }
      ],
      "source": [
        "print('X_train shape:', x_train.shape)\n",
        "print(x_train.shape[0], 'Train samples')\n",
        "print(x_test.shape[0], 'Test samples')"
      ]
    },
    {
      "cell_type": "markdown",
      "metadata": {
        "id": "nM0-E9BTr53L"
      },
      "source": [
        "One hot encoding for labels"
      ]
    },
    {
      "cell_type": "code",
      "execution_count": null,
      "metadata": {
        "id": "CYVGgHYbr9sg"
      },
      "outputs": [],
      "source": [
        "y_train=to_categorical(y_train)\n",
        "y_test=to_categorical(y_test)"
      ]
    },
    {
      "cell_type": "code",
      "execution_count": null,
      "metadata": {
        "id": "pzcR02o1_0lp"
      },
      "outputs": [],
      "source": [
        "model=Sequential()"
      ]
    },
    {
      "cell_type": "code",
      "execution_count": null,
      "metadata": {
        "id": "5X10I4ZVAiWd"
      },
      "outputs": [],
      "source": [
        "model.add(Conv2D(32,kernel_size=(3,3),activation='relu',input_shape=input_shape))"
      ]
    },
    {
      "cell_type": "code",
      "execution_count": null,
      "metadata": {
        "id": "a5aFxb7Jk4ZB"
      },
      "outputs": [],
      "source": [
        "model.add(Conv2D(64,(3,3),activation='relu'))"
      ]
    },
    {
      "cell_type": "code",
      "execution_count": null,
      "metadata": {
        "id": "-n_lWK6RAmz6"
      },
      "outputs": [],
      "source": [
        "model.add(MaxPooling2D(pool_size=(2,2)))"
      ]
    },
    {
      "cell_type": "code",
      "execution_count": null,
      "metadata": {
        "id": "oCpgvSvllPST"
      },
      "outputs": [],
      "source": [
        "model.add(Dropout(0.25))"
      ]
    },
    {
      "cell_type": "code",
      "execution_count": null,
      "metadata": {
        "id": "T_Ao8A-VA7Rn"
      },
      "outputs": [],
      "source": [
        "model.add(Flatten())"
      ]
    },
    {
      "cell_type": "code",
      "execution_count": null,
      "metadata": {
        "id": "CDw0TuXHBDq5"
      },
      "outputs": [],
      "source": [
        "model.add(Dense(128,activation='relu'))"
      ]
    },
    {
      "cell_type": "code",
      "execution_count": null,
      "metadata": {
        "id": "hXAcHNyemTrS"
      },
      "outputs": [],
      "source": [
        "model.add(Dropout(0.50))"
      ]
    },
    {
      "cell_type": "code",
      "execution_count": null,
      "metadata": {
        "id": "SWvW_P-9mYD_"
      },
      "outputs": [],
      "source": [
        "model.add(Dense(num_classes,activation='softmax'))"
      ]
    },
    {
      "cell_type": "code",
      "execution_count": null,
      "metadata": {
        "id": "FdCSYA6uBV9J"
      },
      "outputs": [],
      "source": [
        "model.compile(loss='categorical_crossentropy',optimizer=SGD(0.01),metrics=['accuracy'])"
      ]
    },
    {
      "cell_type": "code",
      "execution_count": null,
      "metadata": {
        "colab": {
          "base_uri": "https://localhost:8080/"
        },
        "id": "Ni5csbRimXPB",
        "outputId": "4a41c307-4aed-4578-c46d-7860271dfde2"
      },
      "outputs": [
        {
          "name": "stdout",
          "output_type": "stream",
          "text": [
            "Model: \"sequential\"\n",
            "_________________________________________________________________\n",
            " Layer (type)                Output Shape              Param #   \n",
            "=================================================================\n",
            " conv2d (Conv2D)             (None, 26, 26, 32)        320       \n",
            "                                                                 \n",
            " conv2d_1 (Conv2D)           (None, 24, 24, 64)        18496     \n",
            "                                                                 \n",
            " max_pooling2d (MaxPooling2D  (None, 12, 12, 64)       0         \n",
            " )                                                               \n",
            "                                                                 \n",
            " dropout (Dropout)           (None, 12, 12, 64)        0         \n",
            "                                                                 \n",
            " flatten (Flatten)           (None, 9216)              0         \n",
            "                                                                 \n",
            " dense (Dense)               (None, 128)               1179776   \n",
            "                                                                 \n",
            " dropout_1 (Dropout)         (None, 128)               0         \n",
            "                                                                 \n",
            " dense_1 (Dense)             (None, 10)                1290      \n",
            "                                                                 \n",
            "=================================================================\n",
            "Total params: 1,199,882\n",
            "Trainable params: 1,199,882\n",
            "Non-trainable params: 0\n",
            "_________________________________________________________________\n",
            "None\n"
          ]
        }
      ],
      "source": [
        "print(model.summary())"
      ]
    },
    {
      "cell_type": "code",
      "execution_count": null,
      "metadata": {
        "id": "FJiYynz2lqVz"
      },
      "outputs": [],
      "source": [
        "batch_size=32\n",
        "epochs=10"
      ]
    },
    {
      "cell_type": "code",
      "execution_count": null,
      "metadata": {
        "colab": {
          "background_save": true,
          "base_uri": "https://localhost:8080/"
        },
        "id": "5SLSdMBkn4lQ",
        "outputId": "b5a94423-646c-49ee-d81f-e9abdeae42dd"
      },
      "outputs": [
        {
          "name": "stdout",
          "output_type": "stream",
          "text": [
            "Epoch 1/10\n",
            "1875/1875 [==============================] - 174s 92ms/step - loss: 0.5890 - accuracy: 0.8146 - val_loss: 0.2036 - val_accuracy: 0.9396\n",
            "Epoch 2/10\n",
            "1875/1875 [==============================] - 171s 91ms/step - loss: 0.2951 - accuracy: 0.9117 - val_loss: 0.1466 - val_accuracy: 0.9564\n",
            "Epoch 3/10\n",
            "1875/1875 [==============================] - 167s 89ms/step - loss: 0.2198 - accuracy: 0.9336 - val_loss: 0.1086 - val_accuracy: 0.9676\n",
            "Epoch 4/10\n",
            "1875/1875 [==============================] - 170s 90ms/step - loss: 0.1758 - accuracy: 0.9473 - val_loss: 0.0823 - val_accuracy: 0.9744\n",
            "Epoch 5/10\n",
            "1875/1875 [==============================] - 170s 91ms/step - loss: 0.1441 - accuracy: 0.9560 - val_loss: 0.0727 - val_accuracy: 0.9770\n",
            "Epoch 6/10\n",
            "1875/1875 [==============================] - 170s 91ms/step - loss: 0.1236 - accuracy: 0.9628 - val_loss: 0.0662 - val_accuracy: 0.9781\n",
            "Epoch 7/10\n",
            "1875/1875 [==============================] - 168s 90ms/step - loss: 0.1125 - accuracy: 0.9659 - val_loss: 0.0553 - val_accuracy: 0.9818\n",
            "Epoch 8/10\n",
            "1875/1875 [==============================] - 170s 91ms/step - loss: 0.1027 - accuracy: 0.9688 - val_loss: 0.0516 - val_accuracy: 0.9825\n",
            "Epoch 9/10\n",
            "1875/1875 [==============================] - 169s 90ms/step - loss: 0.0943 - accuracy: 0.9715 - val_loss: 0.0470 - val_accuracy: 0.9839\n",
            "Epoch 10/10\n",
            "1875/1875 [==============================] - 168s 90ms/step - loss: 0.0888 - accuracy: 0.9730 - val_loss: 0.0438 - val_accuracy: 0.9852\n"
          ]
        }
      ],
      "source": [
        "history=model.fit(x_train,y_train,batch_size=batch_size,epochs=epochs,verbose=1,validation_data=(x_test,y_test))"
      ]
    },
    {
      "cell_type": "code",
      "execution_count": null,
      "metadata": {
        "id": "Mnh3nPesoZec"
      },
      "outputs": [],
      "source": [
        "score=model.evaluate(x_test,y_test,verbose=0)"
      ]
    },
    {
      "cell_type": "code",
      "execution_count": null,
      "metadata": {
        "colab": {
          "base_uri": "https://localhost:8080/"
        },
        "id": "j1pWPNO5erc4",
        "outputId": "1f4ae2cd-9eb1-49f4-85c7-9b8040b93ca6"
      },
      "outputs": [
        {
          "data": {
            "text/plain": [
              "[0.043129175901412964, 0.9861000180244446]"
            ]
          },
          "execution_count": 50,
          "metadata": {},
          "output_type": "execute_result"
        }
      ],
      "source": [
        "score"
      ]
    },
    {
      "cell_type": "code",
      "execution_count": null,
      "metadata": {
        "colab": {
          "base_uri": "https://localhost:8080/"
        },
        "id": "qTW4EsadxUe8",
        "outputId": "dc513e1c-64cb-474b-93a0-d69bf9177269"
      },
      "outputs": [
        {
          "name": "stdout",
          "output_type": "stream",
          "text": [
            "Test Loss :  0.043129175901412964\n",
            "Test Accuracy: 0.9861000180244446\n"
          ]
        }
      ],
      "source": [
        "print(\"Test Loss : \", score[0])\n",
        "print(\"Test Accuracy:\",score[1])"
      ]
    },
    {
      "cell_type": "markdown",
      "metadata": {
        "id": "BYwaPFSnyMCs"
      },
      "source": [
        "Plotting Loss Chart"
      ]
    },
    {
      "cell_type": "code",
      "execution_count": 52,
      "metadata": {
        "id": "WAML0gSJe9r4",
        "colab": {
          "base_uri": "https://localhost:8080/"
        },
        "outputId": "72e49c49-2c40-4873-ed3d-6a9845efd584"
      },
      "outputs": [
        {
          "output_type": "stream",
          "name": "stdout",
          "text": [
            "dict_keys(['loss', 'accuracy', 'val_loss', 'val_accuracy'])\n"
          ]
        }
      ],
      "source": [
        "print(history.history.keys())\n",
        "\n"
      ]
    },
    {
      "cell_type": "markdown",
      "source": [
        "# summarize history for accuracy"
      ],
      "metadata": {
        "id": "63Jc2VdOjcRB"
      }
    },
    {
      "cell_type": "code",
      "source": [
        "plt.plot(history.history['accuracy'])\n",
        "plt.plot(history.history['val_accuracy'])\n",
        "plt.title('model accuracy')\n",
        "plt.ylabel('accuracy')\n",
        "plt.xlabel('epoch')\n",
        "plt.legend(['train', 'test'], loc='upper left')\n",
        "plt.show()"
      ],
      "metadata": {
        "colab": {
          "base_uri": "https://localhost:8080/",
          "height": 295
        },
        "id": "dULFC1V8ir5L",
        "outputId": "23dd52f6-84a4-4f28-a610-c4900ceb652d"
      },
      "execution_count": 53,
      "outputs": [
        {
          "output_type": "display_data",
          "data": {
            "text/plain": [
              "<Figure size 432x288 with 1 Axes>"
            ],
            "image/png": "[encoded data removed]"
          },
          "metadata": {
            "needs_background": "light"
          }
        }
      ]
    },
    {
      "cell_type": "code",
      "source": [
        "# summarize history for loss\n",
        "plt.plot(history.history['loss'])\n",
        "plt.plot(history.history['val_loss'])\n",
        "plt.title('model loss')\n",
        "plt.ylabel('loss')\n",
        "plt.xlabel('epoch')\n",
        "plt.legend(['train', 'test'], loc='upper left')\n",
        "plt.show()"
      ],
      "metadata": {
        "colab": {
          "base_uri": "https://localhost:8080/",
          "height": 295
        },
        "id": "ooS2s1Xoi7V6",
        "outputId": "68116378-0ac1-4d3c-cf0f-54a45056c5a3"
      },
      "execution_count": 54,
      "outputs": [
        {
          "output_type": "display_data",
          "data": {
            "text/plain": [
              "<Figure size 432x288 with 1 Axes>"
            ],
            "image/png": "[encoded data removed]"
          },
          "metadata": {
            "needs_background": "light"
          }
        }
      ]
    },
    {
      "cell_type": "code",
      "source": [
        ""
      ],
      "metadata": {
        "id": "pqY4xHrqjR7a"
      },
      "execution_count": null,
      "outputs": []
    }
  ],
  "metadata": {
    "accelerator": "GPU",
    "colab": {
      "name": "CNN.ipynb",
      "provenance": [],
      "authorship_tag": "ABX9TyPZuRNMG6BJAeLrlsL5bE2S",
      "include_colab_link": true
    },
    "gpuClass": "standard",
    "kernelspec": {
      "display_name": "Python 3",
      "name": "python3"
    },
    "language_info": {
      "name": "python"
    }
  },
  "nbformat": 4,
  "nbformat_minor": 0
}