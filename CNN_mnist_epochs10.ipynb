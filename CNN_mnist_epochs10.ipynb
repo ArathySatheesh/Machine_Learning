{
  "cells": [
    {
      "cell_type": "markdown",
      "metadata": {
        "id": "view-in-github",
        "colab_type": "text"
      },
      "source": [
        "<a href=\"https://colab.research.google.com/github/ArathySatheesh/Machine_Learning/blob/main/CNN_mnist_epochs10.ipynb\" target=\"_parent\"><img src=\"https://colab.research.google.com/assets/colab-badge.svg\" alt=\"Open In Colab\"/></a>"
      ]
    },
    {
      "cell_type": "code",
      "execution_count": 1,
      "metadata": {
        "id": "H5HHQiQt-U3R"
      },
      "outputs": [],
      "source": [
        "from tensorflow.keras.models import Sequential"
      ]
    },
    {
      "cell_type": "code",
      "execution_count": 2,
      "metadata": {
        "id": "Ma9s2mQj-l-L"
      },
      "outputs": [],
      "source": [
        "from tensorflow.keras.layers import Dense"
      ]
    },
    {
      "cell_type": "code",
      "execution_count": 3,
      "metadata": {
        "id": "Q7jKLITa_RE-"
      },
      "outputs": [],
      "source": [
        "from tensorflow.keras.layers import Dropout"
      ]
    },
    {
      "cell_type": "code",
      "execution_count": 4,
      "metadata": {
        "id": "29881WDE_VI4"
      },
      "outputs": [],
      "source": [
        "from tensorflow.keras.layers import Flatten"
      ]
    },
    {
      "cell_type": "code",
      "execution_count": 5,
      "metadata": {
        "id": "VTccyyVG_X4O"
      },
      "outputs": [],
      "source": [
        "from tensorflow.keras.layers import Conv2D"
      ]
    },
    {
      "cell_type": "code",
      "execution_count": 6,
      "metadata": {
        "id": "xoZZUM9z_boK"
      },
      "outputs": [],
      "source": [
        "from tensorflow.keras.layers import MaxPooling2D"
      ]
    },
    {
      "cell_type": "code",
      "execution_count": 7,
      "metadata": {
        "id": "Sz0MB6zD_jR8"
      },
      "outputs": [],
      "source": [
        "from tensorflow.keras import backend as K"
      ]
    },
    {
      "cell_type": "code",
      "execution_count": 8,
      "metadata": {
        "id": "JWu4tQjD_rds"
      },
      "outputs": [],
      "source": [
        "from tensorflow.keras.optimizers import SGD"
      ]
    },
    {
      "cell_type": "code",
      "execution_count": 9,
      "metadata": {
        "id": "jpIy6am8FzWX"
      },
      "outputs": [],
      "source": [
        "from tensorflow.keras.datasets import mnist"
      ]
    },
    {
      "cell_type": "code",
      "execution_count": 10,
      "metadata": {
        "id": "IRouGnhBamtn"
      },
      "outputs": [],
      "source": [
        "import cv2"
      ]
    },
    {
      "cell_type": "code",
      "execution_count": 11,
      "metadata": {
        "id": "sWTI0Cq7fq02"
      },
      "outputs": [],
      "source": [
        "from google.colab.patches import cv2_imshow"
      ]
    },
    {
      "cell_type": "code",
      "execution_count": 12,
      "metadata": {
        "id": "BBT_iD9YsXQb"
      },
      "outputs": [],
      "source": [
        "from tensorflow.keras.utils import to_categorical"
      ]
    },
    {
      "cell_type": "code",
      "execution_count": 13,
      "metadata": {
        "id": "V1PxlyQbyTcJ"
      },
      "outputs": [],
      "source": [
        "import matplotlib.pyplot as plt"
      ]
    },
    {
      "cell_type": "code",
      "execution_count": 14,
      "metadata": {
        "id": "aDkhrpLOarFn"
      },
      "outputs": [],
      "source": [
        "import numpy as np\n",
        "import matplotlib.image as mpimg"
      ]
    },
    {
      "cell_type": "code",
      "source": [
        "from tensorflow.keras.models import load_model"
      ],
      "metadata": {
        "id": "F9MD2J9Z7pH1"
      },
      "execution_count": 15,
      "outputs": []
    },
    {
      "cell_type": "code",
      "source": [
        "from PIL import Image"
      ],
      "metadata": {
        "id": "9l0G2DgNS2Ni"
      },
      "execution_count": 16,
      "outputs": []
    },
    {
      "cell_type": "code",
      "execution_count": 17,
      "metadata": {
        "id": "E2INMl3VF6IE",
        "colab": {
          "base_uri": "https://localhost:8080/"
        },
        "outputId": "59f58d20-3799-4a3a-fc64-7de1d6945aff"
      },
      "outputs": [
        {
          "output_type": "stream",
          "name": "stdout",
          "text": [
            "Downloading data from https://storage.googleapis.com/tensorflow/tf-keras-datasets/mnist.npz\n",
            "11493376/11490434 [==============================] - 0s 0us/step\n",
            "11501568/11490434 [==============================] - 0s 0us/step\n"
          ]
        }
      ],
      "source": [
        "(x_train,y_train),(x_test,y_test)=mnist.load_data()"
      ]
    },
    {
      "cell_type": "markdown",
      "metadata": {
        "id": "7B6JqeZSgMZz"
      },
      "source": [
        "Looking at random images in the dataset.Since, the images are small, they are scaled to view properly."
      ]
    },
    {
      "cell_type": "code",
      "execution_count": null,
      "metadata": {
        "id": "ViDYpVNfZ1Ze",
        "colab": {
          "base_uri": "https://localhost:8080/",
          "height": 857
        },
        "outputId": "a768d243-9f52-4342-a7ea-c62a4bd30c0c"
      },
      "outputs": [
        {
          "output_type": "display_data",
          "data": {
            "text/plain": [
              "<PIL.Image.Image image mode=L size=140x140 at 0x7F3D10701A10>"
            ],
            "image/png": "[encoded data removed]"
          },
          "metadata": {}
        },
        {
          "output_type": "display_data",
          "data": {
            "text/plain": [
              "<PIL.Image.Image image mode=L size=140x140 at 0x7F3D10265550>"
            ],
            "image/png": "[encoded data removed]"
          },
          "metadata": {}
        },
        {
          "output_type": "display_data",
          "data": {
            "text/plain": [
              "<PIL.Image.Image image mode=L size=140x140 at 0x7F3D10701A10>"
            ],
            "image/png": "[encoded data removed]"
          },
          "metadata": {}
        },
        {
          "output_type": "display_data",
          "data": {
            "text/plain": [
              "<PIL.Image.Image image mode=L size=140x140 at 0x7F3D1026B3D0>"
            ],
            "image/png": "[encoded data removed]"
          },
          "metadata": {}
        },
        {
          "output_type": "display_data",
          "data": {
            "text/plain": [
              "<PIL.Image.Image image mode=L size=140x140 at 0x7F3D1026B3D0>"
            ],
            "image/png": "[encoded data removed]"
          },
          "metadata": {}
        },
        {
          "output_type": "display_data",
          "data": {
            "text/plain": [
              "<PIL.Image.Image image mode=L size=140x140 at 0x7F3D1026B550>"
            ],
            "image/png": "[encoded data removed]"
          },
          "metadata": {}
        }
      ],
      "source": [
        "for i in range(0,6):\n",
        "  random_num=np.random.randint(0,len(x_train))\n",
        "  img=x_train[random_num]\n",
        "  img_scaled=cv2.resize(img,None,fx=5,fy=5,interpolation=cv2.INTER_NEAREST)\n",
        "  cv2_imshow(img_scaled)\n",
        "  cv2.waitKey(0)\n",
        "\n",
        "cv2.destroyAllWindows()"
      ]
    },
    {
      "cell_type": "code",
      "execution_count": 18,
      "metadata": {
        "id": "Hp5kw4PImJJP"
      },
      "outputs": [],
      "source": [
        "img_rows=x_train[0].shape[0]"
      ]
    },
    {
      "cell_type": "code",
      "execution_count": 19,
      "metadata": {
        "id": "kr8rXcosnWdR"
      },
      "outputs": [],
      "source": [
        "img_cols=x_train[0].shape[1]"
      ]
    },
    {
      "cell_type": "markdown",
      "metadata": {
        "id": "qpTcTCsSn7FA"
      },
      "source": [
        "Reshaping for Keras as 4D"
      ]
    },
    {
      "cell_type": "code",
      "execution_count": 20,
      "metadata": {
        "id": "_FHGQsDAn_u9"
      },
      "outputs": [],
      "source": [
        "x_train=x_train.reshape(x_train.shape[0],img_rows,img_cols,1)\n",
        "x_test=x_test.reshape(x_test.shape[0],img_rows,img_cols,1)"
      ]
    },
    {
      "cell_type": "markdown",
      "metadata": {
        "id": "NTYlNtMoo1kq"
      },
      "source": [
        "Storing the shape of a single image"
      ]
    },
    {
      "cell_type": "code",
      "execution_count": 21,
      "metadata": {
        "id": "hR_zuF0tojiX"
      },
      "outputs": [],
      "source": [
        "input_shape=(img_rows,img_cols,1)\n",
        "num_classes=10"
      ]
    },
    {
      "cell_type": "markdown",
      "metadata": {
        "id": "HpPsNlJoo8in"
      },
      "source": [
        "Keras works with float"
      ]
    },
    {
      "cell_type": "code",
      "execution_count": 22,
      "metadata": {
        "id": "kcz2chkMo5ZO"
      },
      "outputs": [],
      "source": [
        "x_train=x_train.astype('float32')\n",
        "x_test=x_test.astype('float32')"
      ]
    },
    {
      "cell_type": "markdown",
      "metadata": {
        "id": "wH8H9292pQrT"
      },
      "source": [
        "Normalise from (0 to 255) to (0 to 1)"
      ]
    },
    {
      "cell_type": "code",
      "execution_count": 23,
      "metadata": {
        "id": "iLewrgQMpZfd"
      },
      "outputs": [],
      "source": [
        "x_train/=255.0\n",
        "x_test/=255.0"
      ]
    },
    {
      "cell_type": "code",
      "execution_count": 24,
      "metadata": {
        "colab": {
          "base_uri": "https://localhost:8080/"
        },
        "id": "hvuMdUZ0ptlZ",
        "outputId": "574f61dc-3747-4a3c-9c5d-df1928bc8958"
      },
      "outputs": [
        {
          "output_type": "stream",
          "name": "stdout",
          "text": [
            "X_train shape: (60000, 28, 28, 1)\n",
            "60000 Train samples\n",
            "10000 Test samples\n"
          ]
        }
      ],
      "source": [
        "print('X_train shape:', x_train.shape)\n",
        "print(x_train.shape[0], 'Train samples')\n",
        "print(x_test.shape[0], 'Test samples')"
      ]
    },
    {
      "cell_type": "markdown",
      "metadata": {
        "id": "nM0-E9BTr53L"
      },
      "source": [
        "One hot encoding for labels"
      ]
    },
    {
      "cell_type": "code",
      "execution_count": 25,
      "metadata": {
        "id": "CYVGgHYbr9sg"
      },
      "outputs": [],
      "source": [
        "y_train=to_categorical(y_train)\n",
        "y_test=to_categorical(y_test)"
      ]
    },
    {
      "cell_type": "code",
      "execution_count": 28,
      "metadata": {
        "id": "pzcR02o1_0lp"
      },
      "outputs": [],
      "source": [
        "model=Sequential()"
      ]
    },
    {
      "cell_type": "code",
      "execution_count": 29,
      "metadata": {
        "id": "5X10I4ZVAiWd"
      },
      "outputs": [],
      "source": [
        "model.add(Conv2D(32,kernel_size=(3,3),activation='relu',input_shape=input_shape))"
      ]
    },
    {
      "cell_type": "code",
      "execution_count": 30,
      "metadata": {
        "id": "a5aFxb7Jk4ZB"
      },
      "outputs": [],
      "source": [
        "model.add(Conv2D(64,(3,3),activation='relu'))"
      ]
    },
    {
      "cell_type": "code",
      "execution_count": 31,
      "metadata": {
        "id": "-n_lWK6RAmz6"
      },
      "outputs": [],
      "source": [
        "model.add(MaxPooling2D(pool_size=(2,2)))"
      ]
    },
    {
      "cell_type": "code",
      "execution_count": 32,
      "metadata": {
        "id": "oCpgvSvllPST"
      },
      "outputs": [],
      "source": [
        "model.add(Dropout(0.25))"
      ]
    },
    {
      "cell_type": "code",
      "execution_count": 33,
      "metadata": {
        "id": "T_Ao8A-VA7Rn"
      },
      "outputs": [],
      "source": [
        "model.add(Flatten())"
      ]
    },
    {
      "cell_type": "code",
      "execution_count": 34,
      "metadata": {
        "id": "CDw0TuXHBDq5"
      },
      "outputs": [],
      "source": [
        "model.add(Dense(128,activation='relu'))"
      ]
    },
    {
      "cell_type": "code",
      "execution_count": 35,
      "metadata": {
        "id": "hXAcHNyemTrS"
      },
      "outputs": [],
      "source": [
        "model.add(Dropout(0.50))"
      ]
    },
    {
      "cell_type": "code",
      "execution_count": 36,
      "metadata": {
        "id": "SWvW_P-9mYD_"
      },
      "outputs": [],
      "source": [
        "model.add(Dense(num_classes,activation='softmax'))"
      ]
    },
    {
      "cell_type": "code",
      "execution_count": 37,
      "metadata": {
        "id": "FdCSYA6uBV9J"
      },
      "outputs": [],
      "source": [
        "model.compile(loss='categorical_crossentropy',optimizer=SGD(0.01),metrics=['accuracy'])"
      ]
    },
    {
      "cell_type": "code",
      "execution_count": 38,
      "metadata": {
        "colab": {
          "base_uri": "https://localhost:8080/"
        },
        "id": "Ni5csbRimXPB",
        "outputId": "e0c53a3e-04cf-4302-d191-529b7087cbad"
      },
      "outputs": [
        {
          "output_type": "stream",
          "name": "stdout",
          "text": [
            "Model: \"sequential\"\n",
            "_________________________________________________________________\n",
            " Layer (type)                Output Shape              Param #   \n",
            "=================================================================\n",
            " conv2d (Conv2D)             (None, 26, 26, 32)        320       \n",
            "                                                                 \n",
            " conv2d_1 (Conv2D)           (None, 24, 24, 64)        18496     \n",
            "                                                                 \n",
            " max_pooling2d (MaxPooling2D  (None, 12, 12, 64)       0         \n",
            " )                                                               \n",
            "                                                                 \n",
            " dropout (Dropout)           (None, 12, 12, 64)        0         \n",
            "                                                                 \n",
            " flatten (Flatten)           (None, 9216)              0         \n",
            "                                                                 \n",
            " dense (Dense)               (None, 128)               1179776   \n",
            "                                                                 \n",
            " dropout_1 (Dropout)         (None, 128)               0         \n",
            "                                                                 \n",
            " dense_1 (Dense)             (None, 10)                1290      \n",
            "                                                                 \n",
            "=================================================================\n",
            "Total params: 1,199,882\n",
            "Trainable params: 1,199,882\n",
            "Non-trainable params: 0\n",
            "_________________________________________________________________\n",
            "None\n"
          ]
        }
      ],
      "source": [
        "print(model.summary())"
      ]
    },
    {
      "cell_type": "code",
      "execution_count": 39,
      "metadata": {
        "id": "FJiYynz2lqVz"
      },
      "outputs": [],
      "source": [
        "batch_size=32\n",
        "epochs=10"
      ]
    },
    {
      "cell_type": "code",
      "execution_count": 40,
      "metadata": {
        "colab": {
          "base_uri": "https://localhost:8080/"
        },
        "id": "5SLSdMBkn4lQ",
        "outputId": "1f6aad5d-f8e2-4319-9d89-264f82692a4e"
      },
      "outputs": [
        {
          "output_type": "stream",
          "name": "stdout",
          "text": [
            "Epoch 1/10\n",
            "1875/1875 [==============================] - 19s 4ms/step - loss: 0.6220 - accuracy: 0.8046 - val_loss: 0.2146 - val_accuracy: 0.9392\n",
            "Epoch 2/10\n",
            "1875/1875 [==============================] - 7s 4ms/step - loss: 0.2926 - accuracy: 0.9111 - val_loss: 0.1374 - val_accuracy: 0.9576\n",
            "Epoch 3/10\n",
            "1875/1875 [==============================] - 8s 4ms/step - loss: 0.2170 - accuracy: 0.9343 - val_loss: 0.1022 - val_accuracy: 0.9689\n",
            "Epoch 4/10\n",
            "1875/1875 [==============================] - 7s 4ms/step - loss: 0.1675 - accuracy: 0.9495 - val_loss: 0.0778 - val_accuracy: 0.9760\n",
            "Epoch 5/10\n",
            "1875/1875 [==============================] - 8s 4ms/step - loss: 0.1382 - accuracy: 0.9600 - val_loss: 0.0644 - val_accuracy: 0.9805\n",
            "Epoch 6/10\n",
            "1875/1875 [==============================] - 8s 4ms/step - loss: 0.1194 - accuracy: 0.9644 - val_loss: 0.0562 - val_accuracy: 0.9821\n",
            "Epoch 7/10\n",
            "1875/1875 [==============================] - 8s 4ms/step - loss: 0.1062 - accuracy: 0.9682 - val_loss: 0.0523 - val_accuracy: 0.9822\n",
            "Epoch 8/10\n",
            "1875/1875 [==============================] - 8s 4ms/step - loss: 0.0943 - accuracy: 0.9715 - val_loss: 0.0461 - val_accuracy: 0.9846\n",
            "Epoch 9/10\n",
            "1875/1875 [==============================] - 7s 4ms/step - loss: 0.0874 - accuracy: 0.9736 - val_loss: 0.0447 - val_accuracy: 0.9859\n",
            "Epoch 10/10\n",
            "1875/1875 [==============================] - 7s 4ms/step - loss: 0.0809 - accuracy: 0.9752 - val_loss: 0.0423 - val_accuracy: 0.9857\n"
          ]
        }
      ],
      "source": [
        "history=model.fit(x_train,y_train,batch_size=batch_size,epochs=epochs,verbose=1,validation_data=(x_test,y_test))"
      ]
    },
    {
      "cell_type": "code",
      "execution_count": 41,
      "metadata": {
        "id": "Mnh3nPesoZec"
      },
      "outputs": [],
      "source": [
        "score=model.evaluate(x_test,y_test,verbose=0)"
      ]
    },
    {
      "cell_type": "code",
      "execution_count": 42,
      "metadata": {
        "colab": {
          "base_uri": "https://localhost:8080/"
        },
        "id": "j1pWPNO5erc4",
        "outputId": "a62934ff-96cb-4f89-a876-215cba8b13a8"
      },
      "outputs": [
        {
          "output_type": "execute_result",
          "data": {
            "text/plain": [
              "[0.04233458638191223, 0.9857000112533569]"
            ]
          },
          "metadata": {},
          "execution_count": 42
        }
      ],
      "source": [
        "score"
      ]
    },
    {
      "cell_type": "code",
      "execution_count": 43,
      "metadata": {
        "colab": {
          "base_uri": "https://localhost:8080/"
        },
        "id": "qTW4EsadxUe8",
        "outputId": "57e6ca71-78be-485c-e030-2953ff8a8b5b"
      },
      "outputs": [
        {
          "output_type": "stream",
          "name": "stdout",
          "text": [
            "Test Loss :  0.04233458638191223\n",
            "Test Accuracy: 0.9857000112533569\n"
          ]
        }
      ],
      "source": [
        "print(\"Test Loss : \", score[0])\n",
        "print(\"Test Accuracy:\",score[1])"
      ]
    },
    {
      "cell_type": "markdown",
      "metadata": {
        "id": "BYwaPFSnyMCs"
      },
      "source": [
        "Plotting Loss Chart"
      ]
    },
    {
      "cell_type": "code",
      "execution_count": null,
      "metadata": {
        "id": "WAML0gSJe9r4",
        "colab": {
          "base_uri": "https://localhost:8080/"
        },
        "outputId": "bf7047eb-d4c8-4c36-cfa7-32297b82753a"
      },
      "outputs": [
        {
          "output_type": "stream",
          "name": "stdout",
          "text": [
            "dict_keys(['loss', 'accuracy', 'val_loss', 'val_accuracy'])\n"
          ]
        }
      ],
      "source": [
        "print(history.history.keys())\n",
        "\n"
      ]
    },
    {
      "cell_type": "markdown",
      "source": [
        "# summarize history for accuracy"
      ],
      "metadata": {
        "id": "63Jc2VdOjcRB"
      }
    },
    {
      "cell_type": "code",
      "source": [
        "plt.plot(history.history['accuracy'])\n",
        "plt.plot(history.history['val_accuracy'])\n",
        "plt.title('model accuracy')\n",
        "plt.ylabel('accuracy')\n",
        "plt.xlabel('epoch')\n",
        "plt.legend(['train', 'test'], loc='upper left')\n",
        "plt.show()"
      ],
      "metadata": {
        "colab": {
          "base_uri": "https://localhost:8080/",
          "height": 295
        },
        "id": "dULFC1V8ir5L",
        "outputId": "00de7d62-8324-46cc-d8fb-7bfa1cea85fc"
      },
      "execution_count": null,
      "outputs": [
        {
          "output_type": "display_data",
          "data": {
            "text/plain": [
              "<Figure size 432x288 with 1 Axes>"
            ],
            "image/png": "[encoded data removed]"
          },
          "metadata": {
            "needs_background": "light"
          }
        }
      ]
    },
    {
      "cell_type": "code",
      "source": [
        "# summarize history for loss\n",
        "plt.plot(history.history['loss'])\n",
        "plt.plot(history.history['val_loss'])\n",
        "plt.title('model loss')\n",
        "plt.ylabel('loss')\n",
        "plt.xlabel('epoch')\n",
        "plt.legend(['train', 'test'], loc='upper left')\n",
        "plt.show()"
      ],
      "metadata": {
        "colab": {
          "base_uri": "https://localhost:8080/",
          "height": 295
        },
        "id": "ooS2s1Xoi7V6",
        "outputId": "d6963fb6-f00a-4514-d4e9-82dc763041f0"
      },
      "execution_count": null,
      "outputs": [
        {
          "output_type": "display_data",
          "data": {
            "text/plain": [
              "<Figure size 432x288 with 1 Axes>"
            ],
            "image/png": "[encoded data removed]"
          },
          "metadata": {
            "needs_background": "light"
          }
        }
      ]
    },
    {
      "cell_type": "code",
      "source": [
        "model.save(\"mnist_simple_cnn_10epochs.h5\")"
      ],
      "metadata": {
        "id": "pqY4xHrqjR7a"
      },
      "execution_count": 46,
      "outputs": []
    },
    {
      "cell_type": "code",
      "source": [
        "classifier=load_model(\"mnist_simple_cnn_10epochs.h5\")"
      ],
      "metadata": {
        "id": "f3dFQUBe9JGP"
      },
      "execution_count": 47,
      "outputs": []
    },
    {
      "cell_type": "code",
      "source": [
        "def draw_test(name,pred,input_im):\n",
        "   BLACK=[0,0,0]\n",
        "   #Draw a border\n",
        "   expanded_image=cv2.copyMakeBorder(input_im,0,0,0,image_L.shape[0],cv2.BORDER_CONSTANT,value=BLACK)\n",
        "   #convert to grayscale\n",
        "   expanded_image=cv2.cvtColor(expanded_image,cv2.COLOR_GRAY2BGR)\n",
        "   #write a text on the image\n",
        "   cv2.putText(expanded_image,str(pred),(152,70),cv2.FONT_HERSHEY_COMPLEX_SMALL,4,(0,255,0),2)\n",
        "   cv2.imshow(name,expanded_image)"
      ],
      "metadata": {
        "id": "tkD2WZUbbLd3"
      },
      "execution_count": 44,
      "outputs": []
    },
    {
      "cell_type": "code",
      "source": [
        "for i in range(10):\n",
        "  random_num=np.random.randint(0,len(x_test))\n",
        "  input_im=x_test[random_num]\n",
        "\n",
        "  image_L=cv2.resize(input_im,None,fx=4,fy=4,interpolation=cv2.INTER_CUBIC)\n",
        "  input_im=input_im.reshape(1,28,28,1)\n",
        "  \n",
        "  res=str(classifier.predict(input_im,1,verbose=0)[0])\n",
        "  draw_test(\"Prediction\",res,image_L)\n",
        "  cv2.waitKey(0)\n",
        "  \n",
        "cv2.destroyAllWindows()"
      ],
      "metadata": {
        "id": "cFlBoFg6cieJ"
      },
      "execution_count": null,
      "outputs": []
    }
  ],
  "metadata": {
    "accelerator": "GPU",
    "colab": {
      "name": "CNN.ipynb",
      "provenance": [],
      "authorship_tag": "ABX9TyO/0FPWYczZFSYcvMQTAhLG",
      "include_colab_link": true
    },
    "gpuClass": "standard",
    "kernelspec": {
      "display_name": "Python 3",
      "name": "python3"
    },
    "language_info": {
      "name": "python"
    }
  },
  "nbformat": 4,
  "nbformat_minor": 0
}